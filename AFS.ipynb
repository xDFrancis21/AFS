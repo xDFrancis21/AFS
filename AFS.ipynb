{
 "cells": [
  {
   "cell_type": "markdown",
   "id": "1552b6f0-0b67-4ae1-9a9e-0f002d6851a6",
   "metadata": {},
   "source": [
    "# Automatic File Sorter in File Explorer"
   ]
  },
  {
   "cell_type": "code",
   "execution_count": 2,
   "id": "df4c2dd1-1989-40eb-8082-628b2a2f29aa",
   "metadata": {},
   "outputs": [],
   "source": [
    "import os, shutil"
   ]
  },
  {
   "cell_type": "code",
   "execution_count": 15,
   "id": "06895b2f-528d-4ac5-9acd-d084a169c5a7",
   "metadata": {},
   "outputs": [],
   "source": [
    "path = r\"C:/Users/la.fdewara/Downloads/Portfolio/\""
   ]
  },
  {
   "cell_type": "code",
   "execution_count": 19,
   "id": "f9bfc5bd-a843-43d4-89a7-f1b0e65bf05d",
   "metadata": {},
   "outputs": [],
   "source": [
    "file_names = os.listdir(path)"
   ]
  },
  {
   "cell_type": "code",
   "execution_count": 71,
   "id": "52aced9d-7e85-4c15-90bc-dfb6faf27474",
   "metadata": {},
   "outputs": [],
   "source": [
    "folder_names = ['csv files', 'image files', 'text files', 'exe files', 'sql files']\n",
    "\n",
    "for loop in range(0,5):\n",
    "    if not os.path.exists(path + folder_names[loop]):\n",
    "        os.makedirs(path + folder_names[loop])\n",
    "\n",
    "for file in file_names:\n",
    "    if \".csv\" in file and not os.path.exists(path + \"csv files/\" + file):\n",
    "             shutil.move(path + file, path + \"csv files/\" + file)\n",
    "    elif \".sql\" in file and not os.path.exists(path + \"sql files/\" + file):\n",
    "             shutil.move(path + file, path + \"sql files/\" + file)\n",
    "    elif \".jpeg\" in file and not os.path.exists(path + \"image files/\" + file):\n",
    "             shutil.move(path + file, path + \"image files/\" + file)\n",
    "    elif \".exe\" in file and not os.path.exists(path + \"exe files/\" + file):\n",
    "             shutil.move(path + file, path + \"exe files/\" + file)\n",
    "    elif \".txt\" in file and not os.path.exists(path + \"text files/\" + file):\n",
    "             shutil.move(path + file, path + \"text files/\" + file)\n"
   ]
  },
  {
   "cell_type": "code",
   "execution_count": 69,
   "id": "eacdd4f7-bb63-4c9f-af87-c90e137288b6",
   "metadata": {},
   "outputs": [],
   "source": [
    "\n"
   ]
  },
  {
   "cell_type": "code",
   "execution_count": null,
   "id": "19412cdd-fafb-45e8-91b6-cbf96ecc672f",
   "metadata": {},
   "outputs": [],
   "source": []
  },
  {
   "cell_type": "code",
   "execution_count": null,
   "id": "f7156261-3793-4601-baf0-137764ccc65b",
   "metadata": {},
   "outputs": [],
   "source": []
  }
 ],
 "metadata": {
  "kernelspec": {
   "display_name": "Python 3 (ipykernel)",
   "language": "python",
   "name": "python3"
  },
  "language_info": {
   "codemirror_mode": {
    "name": "ipython",
    "version": 3
   },
   "file_extension": ".py",
   "mimetype": "text/x-python",
   "name": "python",
   "nbconvert_exporter": "python",
   "pygments_lexer": "ipython3",
   "version": "3.12.7"
  }
 },
 "nbformat": 4,
 "nbformat_minor": 5
}
