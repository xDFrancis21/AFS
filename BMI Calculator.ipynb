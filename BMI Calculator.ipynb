{
 "cells": [
  {
   "cell_type": "code",
   "execution_count": null,
   "id": "b4ecfb45-8e68-4a0e-bae1-20830ef82c46",
   "metadata": {},
   "outputs": [],
   "source": [
    "# In metric units: BMI = weight (kg) ÷ height2 (meters)\n",
    "# In US units: BMI = weight (lb) ÷ height2 (inches) * 703"
   ]
  },
  {
   "cell_type": "markdown",
   "id": "b7b0374f-d784-4ff6-a7cb-0174ecc83914",
   "metadata": {},
   "source": [
    "# < 16.0\tSeverely Underweight\n",
    "# 16.0 - 18.4\tUnderweight\n",
    "# 18.5 - 24.9\tNormal\n",
    "# 25.0 - 29.9\tOverweight\n",
    "# 30.0 - 34.9\tModerately Obese\n",
    "# 35.0 - 39.9\tSeverely Obese\n",
    "# > 40.0\tMorbidly Obese\n"
   ]
  },
  {
   "cell_type": "code",
   "execution_count": 38,
   "id": "1fa4bca3-47f0-4b9e-aa6a-c5ebb1aa00df",
   "metadata": {},
   "outputs": [
    {
     "name": "stdin",
     "output_type": "stream",
     "text": [
      "Enter your weight in kg:  55\n",
      "Enter your height in meters:  1.65\n"
     ]
    },
    {
     "name": "stdout",
     "output_type": "stream",
     "text": [
      "Your BMI is : 20.202020202020204\n",
      "Normal\n"
     ]
    }
   ],
   "source": [
    "weight = float(input(\"Enter your weight in kg: \"))\n",
    "\n",
    "height = float(input(\"Enter your height in meters: \"))\n",
    "\n",
    "\n",
    "BMI = weight / (height * height)\n",
    "print(\"Your BMI is :\", BMI)\n",
    "\n",
    "if(BMI <= 16.0):\n",
    "    print('Severely Underweight')\n",
    "elif (BMI <= 18.4):\n",
    "    print('Underweight')\n",
    "elif (BMI <= 24.9):\n",
    "    print('Normal')\n",
    "elif (BMI <= 29.9):\n",
    "    print('Overweight')\n",
    "elif (BMI <= 34.9):\n",
    "    print('Moderately Obese')\n",
    "elif (BMI <= 39.9):\n",
    "    print('Severely Obese')\n",
    "elif (BMI >= 40.0):\n",
    "    print('Morbidly Obese')\n",
    "else:\n",
    "    print('Please a correct value')\n",
    "\n",
    "    "
   ]
  },
  {
   "cell_type": "raw",
   "id": "589ae457-02ec-4ad6-80e7-1d662d5b5ebc",
   "metadata": {},
   "source": []
  },
  {
   "cell_type": "code",
   "execution_count": null,
   "id": "6d9f7e8b-8980-4d3f-8e93-c3cbeebabdb9",
   "metadata": {},
   "outputs": [],
   "source": []
  },
  {
   "cell_type": "code",
   "execution_count": null,
   "id": "dded72e3-201f-46fa-b43e-fcfddbe9efa2",
   "metadata": {},
   "outputs": [],
   "source": []
  },
  {
   "cell_type": "code",
   "execution_count": null,
   "id": "0d6787af-1fc7-4f65-bb14-3d44d981c2bd",
   "metadata": {},
   "outputs": [],
   "source": []
  },
  {
   "cell_type": "code",
   "execution_count": null,
   "id": "0fecf300-9899-44be-8065-a275d5f4e4cf",
   "metadata": {},
   "outputs": [],
   "source": []
  },
  {
   "cell_type": "code",
   "execution_count": null,
   "id": "7ae8e8f3-e526-48d7-a9cd-f81657c6fa26",
   "metadata": {},
   "outputs": [],
   "source": []
  },
  {
   "cell_type": "code",
   "execution_count": null,
   "id": "986eb7d0-4e09-4d6d-a1f3-ef8aa81da30a",
   "metadata": {},
   "outputs": [],
   "source": []
  }
 ],
 "metadata": {
  "kernelspec": {
   "display_name": "Python 3 (ipykernel)",
   "language": "python",
   "name": "python3"
  },
  "language_info": {
   "codemirror_mode": {
    "name": "ipython",
    "version": 3
   },
   "file_extension": ".py",
   "mimetype": "text/x-python",
   "name": "python",
   "nbconvert_exporter": "python",
   "pygments_lexer": "ipython3",
   "version": "3.12.7"
  }
 },
 "nbformat": 4,
 "nbformat_minor": 5
}
